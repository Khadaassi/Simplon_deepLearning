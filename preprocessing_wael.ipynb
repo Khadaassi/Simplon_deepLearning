{
 "cells": [
  {
   "cell_type": "code",
   "execution_count": 251,
   "id": "e28c534b",
   "metadata": {},
   "outputs": [],
   "source": [
    "import os, sys, datetime\n",
    "import numpy as np\n",
    "import pandas as pd\n",
    "#import matplotlib.pyplot as plt\n",
    "#from sklearn.datasets import load_iris\n",
    "#from sklearn.model_selection import train_test_split\n",
    "#from sklearn.preprocessing import StandardScaler\n",
    "#from sklearn.metrics import classification_report, confusion_matrix"
   ]
  },
  {
   "cell_type": "code",
   "execution_count": 252,
   "id": "40a29e69",
   "metadata": {},
   "outputs": [
    {
     "name": "stdout",
     "output_type": "stream",
     "text": [
      "<class 'pandas.core.frame.DataFrame'>\n",
      "RangeIndex: 7043 entries, 0 to 7042\n",
      "Data columns (total 21 columns):\n",
      " #   Column            Non-Null Count  Dtype  \n",
      "---  ------            --------------  -----  \n",
      " 0   customerID        7043 non-null   object \n",
      " 1   gender            7043 non-null   object \n",
      " 2   SeniorCitizen     7043 non-null   int64  \n",
      " 3   Partner           7043 non-null   object \n",
      " 4   Dependents        7043 non-null   object \n",
      " 5   tenure            7043 non-null   int64  \n",
      " 6   PhoneService      7043 non-null   object \n",
      " 7   MultipleLines     7043 non-null   object \n",
      " 8   InternetService   7043 non-null   object \n",
      " 9   OnlineSecurity    7043 non-null   object \n",
      " 10  OnlineBackup      7043 non-null   object \n",
      " 11  DeviceProtection  7043 non-null   object \n",
      " 12  TechSupport       7043 non-null   object \n",
      " 13  StreamingTV       7043 non-null   object \n",
      " 14  StreamingMovies   7043 non-null   object \n",
      " 15  Contract          7043 non-null   object \n",
      " 16  PaperlessBilling  7043 non-null   object \n",
      " 17  PaymentMethod     7043 non-null   object \n",
      " 18  MonthlyCharges    7043 non-null   float64\n",
      " 19  TotalCharges      7043 non-null   object \n",
      " 20  Churn             7043 non-null   object \n",
      "dtypes: float64(1), int64(2), object(18)\n",
      "memory usage: 1.1+ MB\n"
     ]
    }
   ],
   "source": [
    "dataframe = pd.read_csv(\"data/WA_Fn-UseC_-Telco-Customer-Churn.csv\")\n",
    "\n",
    "dataframe.head()\n",
    "\n",
    "#dataframe.gender.unique()\n",
    "dataframe.info()"
   ]
  },
  {
   "cell_type": "code",
   "execution_count": 253,
   "id": "ededf3d5",
   "metadata": {},
   "outputs": [
    {
     "name": "stdout",
     "output_type": "stream",
     "text": [
      "[' ']\n"
     ]
    }
   ],
   "source": [
    "# Affiche les valeurs non convertibles en float\n",
    "print(dataframe[~dataframe[\"TotalCharges\"].str.replace('.', '', 1).str.isnumeric()][\"TotalCharges\"].unique())"
   ]
  },
  {
   "cell_type": "code",
   "execution_count": 254,
   "id": "fca7abd1",
   "metadata": {},
   "outputs": [],
   "source": [
    "# Remplacer les chaînes vides (ou contenant uniquement des espaces) par NaN\n",
    "dataframe[\"TotalCharges\"] = dataframe[\"TotalCharges\"].replace(\" \", np.nan)\n",
    "\n",
    "# Convertir en float\n",
    "dataframe[\"TotalCharges\"] = dataframe[\"TotalCharges\"].astype(float)"
   ]
  },
  {
   "cell_type": "code",
   "execution_count": 255,
   "id": "bc2eb1a9",
   "metadata": {},
   "outputs": [
    {
     "name": "stdout",
     "output_type": "stream",
     "text": [
      "customerID           0\n",
      "gender               0\n",
      "SeniorCitizen        0\n",
      "Partner              0\n",
      "Dependents           0\n",
      "tenure               0\n",
      "PhoneService         0\n",
      "MultipleLines        0\n",
      "InternetService      0\n",
      "OnlineSecurity       0\n",
      "OnlineBackup         0\n",
      "DeviceProtection     0\n",
      "TechSupport          0\n",
      "StreamingTV          0\n",
      "StreamingMovies      0\n",
      "Contract             0\n",
      "PaperlessBilling     0\n",
      "PaymentMethod        0\n",
      "MonthlyCharges       0\n",
      "TotalCharges        11\n",
      "Churn                0\n",
      "dtype: int64\n"
     ]
    }
   ],
   "source": [
    "# Affiche le nombre de NaN par colonne\n",
    "print(dataframe.isna().sum())\n"
   ]
  },
  {
   "cell_type": "code",
   "execution_count": 256,
   "id": "ace78c18",
   "metadata": {},
   "outputs": [
    {
     "name": "stdout",
     "output_type": "stream",
     "text": [
      "Colonnes avec des valeurs manquantes : ['TotalCharges']\n"
     ]
    }
   ],
   "source": [
    "# Colonnes avec au moins un NaN\n",
    "cols_with_nan = dataframe.columns[dataframe.isna().any()].tolist()\n",
    "print(\"Colonnes avec des valeurs manquantes :\", cols_with_nan)\n"
   ]
  },
  {
   "cell_type": "code",
   "execution_count": 257,
   "id": "8c4d8a0b",
   "metadata": {},
   "outputs": [
    {
     "data": {
      "text/html": [
       "<div>\n",
       "<style scoped>\n",
       "    .dataframe tbody tr th:only-of-type {\n",
       "        vertical-align: middle;\n",
       "    }\n",
       "\n",
       "    .dataframe tbody tr th {\n",
       "        vertical-align: top;\n",
       "    }\n",
       "\n",
       "    .dataframe thead th {\n",
       "        text-align: right;\n",
       "    }\n",
       "</style>\n",
       "<table border=\"1\" class=\"dataframe\">\n",
       "  <thead>\n",
       "    <tr style=\"text-align: right;\">\n",
       "      <th></th>\n",
       "      <th>SeniorCitizen</th>\n",
       "      <th>tenure</th>\n",
       "      <th>MonthlyCharges</th>\n",
       "      <th>TotalCharges</th>\n",
       "    </tr>\n",
       "  </thead>\n",
       "  <tbody>\n",
       "    <tr>\n",
       "      <th>count</th>\n",
       "      <td>7043.000000</td>\n",
       "      <td>7043.000000</td>\n",
       "      <td>7043.000000</td>\n",
       "      <td>7032.000000</td>\n",
       "    </tr>\n",
       "    <tr>\n",
       "      <th>mean</th>\n",
       "      <td>0.162147</td>\n",
       "      <td>32.371149</td>\n",
       "      <td>64.761692</td>\n",
       "      <td>2283.300441</td>\n",
       "    </tr>\n",
       "    <tr>\n",
       "      <th>std</th>\n",
       "      <td>0.368612</td>\n",
       "      <td>24.559481</td>\n",
       "      <td>30.090047</td>\n",
       "      <td>2266.771362</td>\n",
       "    </tr>\n",
       "    <tr>\n",
       "      <th>min</th>\n",
       "      <td>0.000000</td>\n",
       "      <td>0.000000</td>\n",
       "      <td>18.250000</td>\n",
       "      <td>18.800000</td>\n",
       "    </tr>\n",
       "    <tr>\n",
       "      <th>25%</th>\n",
       "      <td>0.000000</td>\n",
       "      <td>9.000000</td>\n",
       "      <td>35.500000</td>\n",
       "      <td>401.450000</td>\n",
       "    </tr>\n",
       "    <tr>\n",
       "      <th>50%</th>\n",
       "      <td>0.000000</td>\n",
       "      <td>29.000000</td>\n",
       "      <td>70.350000</td>\n",
       "      <td>1397.475000</td>\n",
       "    </tr>\n",
       "    <tr>\n",
       "      <th>75%</th>\n",
       "      <td>0.000000</td>\n",
       "      <td>55.000000</td>\n",
       "      <td>89.850000</td>\n",
       "      <td>3794.737500</td>\n",
       "    </tr>\n",
       "    <tr>\n",
       "      <th>max</th>\n",
       "      <td>1.000000</td>\n",
       "      <td>72.000000</td>\n",
       "      <td>118.750000</td>\n",
       "      <td>8684.800000</td>\n",
       "    </tr>\n",
       "  </tbody>\n",
       "</table>\n",
       "</div>"
      ],
      "text/plain": [
       "       SeniorCitizen       tenure  MonthlyCharges  TotalCharges\n",
       "count    7043.000000  7043.000000     7043.000000   7032.000000\n",
       "mean        0.162147    32.371149       64.761692   2283.300441\n",
       "std         0.368612    24.559481       30.090047   2266.771362\n",
       "min         0.000000     0.000000       18.250000     18.800000\n",
       "25%         0.000000     9.000000       35.500000    401.450000\n",
       "50%         0.000000    29.000000       70.350000   1397.475000\n",
       "75%         0.000000    55.000000       89.850000   3794.737500\n",
       "max         1.000000    72.000000      118.750000   8684.800000"
      ]
     },
     "execution_count": 257,
     "metadata": {},
     "output_type": "execute_result"
    }
   ],
   "source": [
    "dataframe.describe()"
   ]
  },
  {
   "cell_type": "code",
   "execution_count": 258,
   "id": "951ff8ca",
   "metadata": {},
   "outputs": [
    {
     "data": {
      "text/plain": [
       "customerID           0\n",
       "gender               0\n",
       "SeniorCitizen        0\n",
       "Partner              0\n",
       "Dependents           0\n",
       "tenure               0\n",
       "PhoneService         0\n",
       "MultipleLines        0\n",
       "InternetService      0\n",
       "OnlineSecurity       0\n",
       "OnlineBackup         0\n",
       "DeviceProtection     0\n",
       "TechSupport          0\n",
       "StreamingTV          0\n",
       "StreamingMovies      0\n",
       "Contract             0\n",
       "PaperlessBilling     0\n",
       "PaymentMethod        0\n",
       "MonthlyCharges       0\n",
       "TotalCharges        11\n",
       "Churn                0\n",
       "dtype: int64"
      ]
     },
     "execution_count": 258,
     "metadata": {},
     "output_type": "execute_result"
    }
   ],
   "source": [
    "dataframe.isnull().sum()"
   ]
  },
  {
   "cell_type": "code",
   "execution_count": 259,
   "id": "ad1b4914",
   "metadata": {},
   "outputs": [],
   "source": [
    "#dataframe = dataframe.dropna(subset=[\"TotalCharges\", \"MonthlyCharges\"])\n"
   ]
  },
  {
   "cell_type": "code",
   "execution_count": 260,
   "id": "8402f316",
   "metadata": {},
   "outputs": [
    {
     "name": "stdout",
     "output_type": "stream",
     "text": [
      "Colonnes binaires (Yes/No) : ['Partner', 'Dependents', 'PhoneService', 'PaperlessBilling', 'Churn']\n"
     ]
    }
   ],
   "source": [
    "# Trouver les colonnes contenant uniquement les valeurs 'Yes' et 'No'\n",
    "binary_cols = [\n",
    "    col for col in dataframe.columns\n",
    "    if set(dataframe[col].dropna().unique()) <= {'Yes', 'No'}\n",
    "]\n",
    "\n",
    "print(\"Colonnes binaires (Yes/No) :\", binary_cols)"
   ]
  },
  {
   "cell_type": "code",
   "execution_count": 261,
   "id": "a7dc5527",
   "metadata": {},
   "outputs": [
    {
     "name": "stdout",
     "output_type": "stream",
     "text": [
      "Colonnes à encoder en One-Hot : ['customerID', 'MultipleLines', 'InternetService', 'OnlineSecurity', 'OnlineBackup', 'DeviceProtection', 'TechSupport', 'StreamingTV', 'StreamingMovies', 'Contract', 'PaymentMethod']\n"
     ]
    }
   ],
   "source": [
    "one_hot_cols = [\n",
    "    col for col in dataframe.select_dtypes(include='object').columns\n",
    "    if dataframe[col].nunique(dropna=True) > 2\n",
    "]\n",
    "\n",
    "print(\"Colonnes à encoder en One-Hot :\", one_hot_cols)"
   ]
  },
  {
   "cell_type": "code",
   "execution_count": 262,
   "id": "bee0643d",
   "metadata": {},
   "outputs": [
    {
     "name": "stdout",
     "output_type": "stream",
     "text": [
      "Index(['customerID', 'gender', 'SeniorCitizen', 'Partner', 'Dependents',\n",
      "       'tenure', 'PhoneService', 'MultipleLines', 'InternetService',\n",
      "       'OnlineSecurity', 'OnlineBackup', 'DeviceProtection', 'TechSupport',\n",
      "       'StreamingTV', 'StreamingMovies', 'Contract', 'PaperlessBilling',\n",
      "       'PaymentMethod', 'MonthlyCharges', 'TotalCharges', 'Churn'],\n",
      "      dtype='object')\n"
     ]
    }
   ],
   "source": [
    "print(dataframe.columns)\n"
   ]
  },
  {
   "cell_type": "code",
   "execution_count": null,
   "id": "d9dc3fa9",
   "metadata": {},
   "outputs": [
    {
     "name": "stdout",
     "output_type": "stream",
     "text": [
      "Colonnes à encoder en OrdinalEncoder : ['Partner', 'Dependents', 'PhoneService', 'PaperlessBilling']\n"
     ]
    }
   ],
   "source": [
    "# a) Colonnes binaires Yes/No\n",
    "from sklearn.compose import ColumnTransformer\n",
    "from sklearn.discriminant_analysis import StandardScaler\n",
    "from sklearn.impute import SimpleImputer\n",
    "from sklearn.linear_model import LogisticRegression\n",
    "from sklearn.pipeline import Pipeline\n",
    "from sklearn.preprocessing import OneHotEncoder, OrdinalEncoder\n",
    "from sklearn.model_selection import train_test_split\n",
    "\n",
    "y = dataframe['Churn'].map({\"Yes\": 1, \"No\": 0}) \n",
    "dataframe = dataframe.drop(columns=[\"Churn\", \"customerID\"])\n",
    "\n",
    "\n",
    "binary_cols = [\n",
    "    c for c in dataframe.columns\n",
    "    if set(dataframe[c].dropna().unique()) <= {\"Yes\", \"No\"}\n",
    "]\n",
    "\n",
    "print(\"Colonnes à encoder en OrdinalEncoder :\", binary_cols)"
   ]
  },
  {
   "cell_type": "code",
   "execution_count": 264,
   "id": "0241845c",
   "metadata": {},
   "outputs": [
    {
     "name": "stdout",
     "output_type": "stream",
     "text": [
      "Colonnes à encoder en One-Hot : ['gender', 'MultipleLines', 'InternetService', 'OnlineSecurity', 'OnlineBackup', 'DeviceProtection', 'TechSupport', 'StreamingTV', 'StreamingMovies', 'Contract', 'PaymentMethod']\n"
     ]
    }
   ],
   "source": [
    "# b) Colonnes catégorielles à > 2 modalités\n",
    "multi_cat_cols = [\n",
    "    c for c in dataframe.select_dtypes(include=\"object\").columns\n",
    "    if c not in binary_cols\n",
    "]\n",
    "\n",
    "print(\"Colonnes à encoder en One-Hot :\", multi_cat_cols)"
   ]
  },
  {
   "cell_type": "code",
   "execution_count": 265,
   "id": "00bdb827",
   "metadata": {},
   "outputs": [
    {
     "name": "stdout",
     "output_type": "stream",
     "text": [
      "Colonnes à encoder en StandardScaler : ['SeniorCitizen', 'tenure', 'MonthlyCharges', 'TotalCharges']\n"
     ]
    }
   ],
   "source": [
    "# c) Colonnes numériques\n",
    "numeric_cols = dataframe.select_dtypes(include=[\"int64\", \"float64\"]).columns.tolist()\n",
    "\n",
    "print(\"Colonnes à encoder en StandardScaler :\", numeric_cols)"
   ]
  },
  {
   "cell_type": "code",
   "execution_count": 266,
   "id": "874f7903",
   "metadata": {},
   "outputs": [],
   "source": [
    "#dataframe.head()"
   ]
  },
  {
   "cell_type": "code",
   "execution_count": 267,
   "id": "e6eddb37",
   "metadata": {},
   "outputs": [
    {
     "data": {
      "text/plain": [
       "(5634, 19)"
      ]
     },
     "execution_count": 267,
     "metadata": {},
     "output_type": "execute_result"
    }
   ],
   "source": [
    "X_train, X_test, y_train, y_test = train_test_split(dataframe, y, stratify=y, test_size=0.2, random_state=42)\n",
    "X_train.shape\n",
    "#X_test.shape"
   ]
  },
  {
   "cell_type": "code",
   "execution_count": 268,
   "id": "5867d7d9",
   "metadata": {},
   "outputs": [
    {
     "name": "stdout",
     "output_type": "stream",
     "text": [
      "[[ 0.          0.          0.          0.          0.          1.\n",
      "   0.          1.          0.          1.          0.          0.\n",
      "   1.          0.          0.          1.          0.          0.\n",
      "   0.          0.          1.          1.          0.          0.\n",
      "   0.          0.          1.          0.          0.          1.\n",
      "   1.          0.          0.          0.          0.          1.\n",
      "   0.         -0.44177295  0.10237124 -0.52197565 -0.26328951]\n",
      " [ 1.          1.          1.          0.          0.          1.\n",
      "   1.          0.          0.          0.          1.          0.\n",
      "   0.          0.          1.          1.          0.          0.\n",
      "   1.          0.          0.          1.          0.          0.\n",
      "   1.          0.          0.          1.          0.          0.\n",
      "   1.          0.          0.          0.          0.          0.\n",
      "   1.         -0.44177295 -0.71174346  0.33747781 -0.50481497]\n",
      " [ 1.          1.          0.          0.          0.          1.\n",
      "   0.          1.          0.          1.          0.          0.\n",
      "   0.          0.          1.          0.          0.          1.\n",
      "   1.          0.          0.          0.          0.          1.\n",
      "   1.          0.          0.          1.          0.          0.\n",
      "   0.          0.          1.          0.          0.          0.\n",
      "   1.         -0.44177295 -0.79315493 -0.80901319 -0.75121397]\n",
      " [ 1.          0.          1.          1.          1.          0.\n",
      "   1.          0.          0.          1.          0.          0.\n",
      "   1.          0.          0.          0.          0.          1.\n",
      "   0.          0.          1.          1.          0.          0.\n",
      "   0.          0.          1.          0.          0.          1.\n",
      "   0.          0.          1.          0.          1.          0.\n",
      "   0.         -0.44177295 -0.26398038  0.28438416 -0.17369985]\n",
      " [ 1.          1.          1.          0.          0.          1.\n",
      "   1.          0.          0.          1.          0.          0.\n",
      "   1.          0.          0.          1.          0.          0.\n",
      "   1.          0.          0.          1.          0.          0.\n",
      "   1.          0.          0.          1.          0.          0.\n",
      "   1.          0.          0.          0.          0.          1.\n",
      "   0.         -0.44177295 -1.28162375 -0.67627907 -0.99085148]]\n",
      "[[ 1.          1.          1.          1.          0.          1.\n",
      "   0.          0.          1.          0.          1.          0.\n",
      "   0.          0.          1.          0.          0.          1.\n",
      "   0.          0.          1.          0.          0.          1.\n",
      "   0.          0.          1.          0.          0.          1.\n",
      "   0.          0.          1.          0.          1.          0.\n",
      "   0.         -0.44177295  1.60848343  1.62997635  2.70761413]\n",
      " [ 0.          0.          1.          1.          1.          0.\n",
      "   0.          0.          1.          0.          1.          0.\n",
      "   1.          0.          0.          1.          0.          0.\n",
      "   1.          0.          0.          0.          0.          1.\n",
      "   0.          0.          1.          0.          0.          1.\n",
      "   1.          0.          0.          0.          1.          0.\n",
      "   0.          2.2636062  -0.9966836   1.16872526 -0.61150591]\n",
      " [ 1.          1.          1.          1.          1.          0.\n",
      "   0.          0.          1.          1.          0.          0.\n",
      "   0.          0.          1.          0.          0.          1.\n",
      "   0.          0.          1.          1.          0.          0.\n",
      "   0.          0.          1.          1.          0.          0.\n",
      "   0.          1.          0.          0.          1.          0.\n",
      "   0.         -0.44177295  0.34660565  0.44532428  0.39948954]\n",
      " [ 1.          0.          1.          0.          0.          1.\n",
      "   1.          0.          0.          0.          1.          0.\n",
      "   1.          0.          0.          1.          0.          0.\n",
      "   0.          0.          1.          0.          0.          1.\n",
      "   1.          0.          0.          1.          0.          0.\n",
      "   1.          0.          0.          0.          0.          1.\n",
      "   0.         -0.44177295 -0.58962625  0.44034675 -0.36554597]\n",
      " [ 1.          0.          1.          1.          1.          0.\n",
      "   0.          0.          1.          1.          0.          0.\n",
      "   0.          0.          1.          0.          0.          1.\n",
      "   0.          0.          1.          1.          0.          0.\n",
      "   0.          0.          1.          0.          0.          1.\n",
      "   0.          0.          1.          0.          1.          0.\n",
      "   0.         -0.44177295  1.60848343  0.58801347  1.58852276]]\n"
     ]
    },
    {
     "data": {
      "text/plain": [
       "'\\n# Exemple de prédiction :\\nproba = clf.predict_proba(dataframe.iloc[[0]])[0, 1]\\nprint(f\"Probabilité de churn pour la 1ʳᵉ ligne : {proba:.2%}\")'"
      ]
     },
     "execution_count": 268,
     "metadata": {},
     "output_type": "execute_result"
    }
   ],
   "source": [
    "# ------------------------------------------------------------------\n",
    "# 3. Pipelines de pré-traitement\n",
    "# ------------------------------------------------------------------\n",
    "binary_pipeline = Pipeline([\n",
    "    (\"imputer\", SimpleImputer(strategy=\"most_frequent\")),\n",
    "    (\"encoder\", OrdinalEncoder(categories=[[\"No\", \"Yes\"]]*len(binary_cols)))\n",
    "])\n",
    "\n",
    "# Pipeline pour les colonnes multi-catégorielles (>2 modalités)\n",
    "multi_cat_pipeline = Pipeline([\n",
    "    (\"imputer\", SimpleImputer(strategy=\"most_frequent\")),\n",
    "    (\"encoder\", OneHotEncoder(handle_unknown=\"ignore\", sparse_output=False))\n",
    "])\n",
    "# Optional : colonnes numériques\n",
    "numeric_cols = dataframe.select_dtypes(include=[\"int64\", \"float64\"]).columns.tolist()\n",
    "\n",
    "numeric_pipeline = Pipeline([\n",
    "    (\"imputer\", SimpleImputer(strategy=\"median\")),\n",
    "    (\"scaler\", StandardScaler())\n",
    "])\n",
    "\n",
    "# ------------------------------------------------------------------\n",
    "# 4. Assemblage + modèle final\n",
    "# ------------------------------------------------------------------\n",
    "preprocessor = ColumnTransformer([\n",
    "    (\"bin\", binary_pipeline, binary_cols),\n",
    "    (\"cat\", multi_cat_pipeline, multi_cat_cols),\n",
    "    (\"num\", numeric_pipeline, numeric_cols)\n",
    "])\n",
    "\n",
    "# Entraîner le pipeline sur les données\n",
    "preprocessor.fit(X_train)\n",
    "\n",
    "# Transformation\n",
    "X_train_preprocessed = preprocessor.transform(X_train)\n",
    "X_test_preprocessed = preprocessor.transform(X_test)\n",
    "\n",
    "print(X_train_preprocessed[:5])\n",
    "print(X_test_preprocessed[:5])\n",
    "\n",
    "\"\"\"# Il faiy faire attention, appliquer les transformations sur les numériques (base train, valid et test)\n",
    "\n",
    "\n",
    "clf = Pipeline([\n",
    "    (\"prep\",  preprocessor),\n",
    "    (\"model\", LogisticRegression(max_iter=1000, n_jobs=-1))\n",
    "])\n",
    "\n",
    "clf.fit(dataframe, y)                # ↖️ pipeline prêt à l’emploi\n",
    "\n",
    "X_transformed = clf.named_steps[\"prep\"].transform(dataframe)\n",
    "print(X_transformed[:5])\"\"\"\n",
    "\"\"\"\"\"\"\"\"\"\n",
    "# Exemple de prédiction :\n",
    "proba = clf.predict_proba(dataframe.iloc[[0]])[0, 1]\n",
    "print(f\"Probabilité de churn pour la 1ʳᵉ ligne : {proba:.2%}\")\"\"\""
   ]
  },
  {
   "cell_type": "code",
   "execution_count": 269,
   "id": "9a8d1d4f",
   "metadata": {},
   "outputs": [
    {
     "data": {
      "text/plain": [
       "(5634, 41)"
      ]
     },
     "execution_count": 269,
     "metadata": {},
     "output_type": "execute_result"
    }
   ],
   "source": [
    "X_train_preprocessed.shape"
   ]
  }
 ],
 "metadata": {
  "kernelspec": {
   "display_name": ".venv",
   "language": "python",
   "name": "python3"
  },
  "language_info": {
   "codemirror_mode": {
    "name": "ipython",
    "version": 3
   },
   "file_extension": ".py",
   "mimetype": "text/x-python",
   "name": "python",
   "nbconvert_exporter": "python",
   "pygments_lexer": "ipython3",
   "version": "3.11.0"
  }
 },
 "nbformat": 4,
 "nbformat_minor": 5
}
